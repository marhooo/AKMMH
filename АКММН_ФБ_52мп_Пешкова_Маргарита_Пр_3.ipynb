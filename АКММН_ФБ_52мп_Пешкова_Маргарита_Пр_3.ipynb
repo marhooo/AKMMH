{
  "cells": [
    {
      "cell_type": "markdown",
      "metadata": {
        "id": "view-in-github",
        "colab_type": "text"
      },
      "source": [
        "<a href=\"https://colab.research.google.com/github/marhooo/AKMMH/blob/main/%D0%90%D0%9A%D0%9C%D0%9C%D0%9D_%D0%A4%D0%91_52%D0%BC%D0%BF_%D0%9F%D0%B5%D1%88%D0%BA%D0%BE%D0%B2%D0%B0_%D0%9C%D0%B0%D1%80%D0%B3%D0%B0%D1%80%D0%B8%D1%82%D0%B0_%D0%9F%D1%80_3.ipynb\" target=\"_parent\"><img src=\"https://colab.research.google.com/assets/colab-badge.svg\" alt=\"Open In Colab\"/></a>"
      ]
    },
    {
      "cell_type": "markdown",
      "metadata": {
        "id": "9NH-75Hpyzv-"
      },
      "source": [
        "## Аналіз кіберінцидентів методами машинного навчання\n",
        "Практична робота №3\n",
        "\n",
        "Тема: Метод опорних векторів в системах машинного навчання"
      ]
    },
    {
      "cell_type": "markdown",
      "source": [
        "Метод опорних векторів (SVM) є потужним алгоритмом для класифікації та\n",
        "регресії, що заснований на ідеї знаходження оптимальної розділяючої\n",
        "гіперплощини між класами. Таким чином, SVM призначений для вирішення\n",
        "задач класифікації та регресії. В основі методу лежить поняття\n",
        "гіперплощини, що найкращим чином розділяє класи в просторі ознак.\n",
        "Основним завданням SVM є знаходження гіперплощини, яка\n",
        "максимізує відстань між найближчими до неї точками кожного класу,\n",
        "відомих як опорні вектори. Для нелінійної класифікації SVM використовує\n",
        "ядро, яке перетворює вхідний простір ознак у простір більш високої\n",
        "розмірності, де можливо знайти лінійно розділювальну гіперплощину. У\n",
        "випадку регресії, SVM знаходить гіперплощину, що мінімізує помилку\n",
        "моделі, з урахуванням штрафу за відхилення точок від функції регресії."
      ],
      "metadata": {
        "id": "2FvqZdhog5NE"
      }
    },
    {
      "cell_type": "code",
      "source": [
        "import pandas as pd\n",
        "import numpy as np\n",
        "import matplotlib.pyplot as plt\n",
        "import seaborn as sns\n",
        "from sklearn.model_selection import train_test_split\n",
        "from sklearn.preprocessing import StandardScaler, OneHotEncoder\n",
        "from sklearn.compose import ColumnTransformer\n",
        "from sklearn.pipeline import Pipeline\n",
        "from sklearn.svm import SVC\n",
        "from sklearn.metrics import accuracy_score, classification_report, confusion_matrix, ConfusionMatrixDisplay\n",
        "\n",
        "# Налаштування відображення\n",
        "pd.set_option('display.max_columns', None)"
      ],
      "metadata": {
        "id": "pVSgbuNqhUtD"
      },
      "execution_count": 13,
      "outputs": []
    },
    {
      "cell_type": "markdown",
      "source": [
        "## Завантаження та первинний огляд даних"
      ],
      "metadata": {
        "id": "_1dXEV3qhdaL"
      }
    },
    {
      "cell_type": "code",
      "source": [
        "path = '/content/salaries_cyber.csv'\n",
        "df = pd.read_csv('salaries_cyber.csv')\n",
        "\n",
        "print(\"Розмірність датасету:\", df.shape)\n",
        "print(\"\\nПерші 5 рядків датасету:\")\n",
        "print(df.head())\n",
        "print(\"\\nКількість пропусків у кожному стовпці:\")\n",
        "print(df.isnull().sum())\n",
        "print(\"\\nРозподіл цільової змінної 'experience_level':\")\n",
        "print(df['experience_level'].value_counts())"
      ],
      "metadata": {
        "colab": {
          "base_uri": "https://localhost:8080/"
        },
        "id": "A0iNGij_hiSQ",
        "outputId": "bca14e28-48c9-424a-add3-ea055a3d10b3"
      },
      "execution_count": 14,
      "outputs": [
        {
          "output_type": "stream",
          "name": "stdout",
          "text": [
            "Розмірність датасету: (1247, 11)\n",
            "\n",
            "Перші 5 рядків датасету:\n",
            "   work_year experience_level employment_type               job_title  salary  \\\n",
            "0       2022               EN              FT   Cyber Program Manager   63000   \n",
            "1       2022               MI              FT        Security Analyst   95000   \n",
            "2       2022               MI              FT        Security Analyst   70000   \n",
            "3       2022               MI              FT     IT Security Analyst  250000   \n",
            "4       2022               EN              CT  Cyber Security Analyst  120000   \n",
            "\n",
            "  salary_currency  salary_in_usd employee_residence  remote_ratio  \\\n",
            "0             USD          63000                 US            50   \n",
            "1             USD          95000                 US             0   \n",
            "2             USD          70000                 US             0   \n",
            "3             BRL          48853                 BR            50   \n",
            "4             USD         120000                 BW           100   \n",
            "\n",
            "  company_location company_size  \n",
            "0               US            S  \n",
            "1               US            M  \n",
            "2               US            M  \n",
            "3               BR            L  \n",
            "4               BW            S  \n",
            "\n",
            "Кількість пропусків у кожному стовпці:\n",
            "work_year             0\n",
            "experience_level      0\n",
            "employment_type       0\n",
            "job_title             0\n",
            "salary                0\n",
            "salary_currency       0\n",
            "salary_in_usd         0\n",
            "employee_residence    0\n",
            "remote_ratio          0\n",
            "company_location      0\n",
            "company_size          0\n",
            "dtype: int64\n",
            "\n",
            "Розподіл цільової змінної 'experience_level':\n",
            "experience_level\n",
            "SE    547\n",
            "MI    412\n",
            "EN    215\n",
            "EX     73\n",
            "Name: count, dtype: int64\n"
          ]
        }
      ]
    },
    {
      "cell_type": "markdown",
      "source": [
        "Дані не містять пропусків. Спостерігається значний дисбаланс класів, де Senior (SE) і Mid-level (MI) домінують, а Executive (EX) є найменш представленим класом."
      ],
      "metadata": {
        "id": "o58cCRd1sTYt"
      }
    },
    {
      "cell_type": "markdown",
      "source": [
        "## Підготовка ознак та попередня обробка\n",
        "Для SVM необхідно масштабувати числові ознаки (як salary_in_usd) та закодувати категоріальні (як job_title або company_size). Це робиться автоматично за допомогою ColumnTransformer."
      ],
      "metadata": {
        "id": "RPLmm1aYsdHS"
      }
    },
    {
      "cell_type": "code",
      "source": [
        "# Цільова змінна — experience_level\n",
        "y = df['experience_level']\n",
        "# Виключення цільової змінної та надлишкових даних про зарплату\n",
        "X = df.drop(['experience_level', 'salary', 'salary_currency'], axis=1)\n",
        "\n",
        "# Визначення типів колонок для попередньої обробки\n",
        "numerical_features = ['salary_in_usd']\n",
        "categorical_features = ['work_year', 'employment_type', 'job_title',\n",
        "                        'employee_residence', 'remote_ratio', 'company_location',\n",
        "                        'company_size']\n",
        "\n",
        "preprocessor = ColumnTransformer(\n",
        "    transformers=[\n",
        "        # Масштабування числових ознак\n",
        "        ('num', StandardScaler(), numerical_features),\n",
        "        # One-Hot Encoding для категоріальних ознак\n",
        "        ('cat', OneHotEncoder(handle_unknown='ignore'), categorical_features)\n",
        "    ])"
      ],
      "metadata": {
        "id": "5ftK4WKysmlt"
      },
      "execution_count": 15,
      "outputs": []
    },
    {
      "cell_type": "markdown",
      "source": [
        "## Поділ на навчальну і тестову вибірку\n",
        "Використовуємо 70% даних для навчання та 30% для тестування, зберігаючи пропорції класів (stratify=y)."
      ],
      "metadata": {
        "id": "gBPTuN5vsr5F"
      }
    },
    {
      "cell_type": "code",
      "source": [
        "X_train, X_test, y_train, y_test = train_test_split(\n",
        "    X, y, test_size=0.3, random_state=42, stratify=y)"
      ],
      "metadata": {
        "id": "qKAm3sKEsvRv"
      },
      "execution_count": 16,
      "outputs": []
    },
    {
      "cell_type": "markdown",
      "source": [
        "## Модель 1: SVM (Лінійне Ядро)\n",
        "Базова модель, яка шукає лінійну розділяючу гіперплощину."
      ],
      "metadata": {
        "id": "0E34jBVCszi6"
      }
    },
    {
      "cell_type": "code",
      "source": [
        "# Створення та навчання моделі SVM з лінійним ядром у Pipeline\n",
        "svm_linear_model = Pipeline(steps=[('preprocessor', preprocessor),\n",
        "                                   ('classifier', SVC(kernel='linear', random_state=42))])\n",
        "\n",
        "print(\"Навчання моделі SVM (Лінійне ядро)...\")\n",
        "svm_linear_model.fit(X_train, y_train)\n",
        "y_pred_linear = svm_linear_model.predict(X_test)\n",
        "\n",
        "print(\"\\nРезультати SVM (Лінійне ядро):\")\n",
        "print(\"Accuracy:\", round(accuracy_score(y_test, y_pred_linear), 3))\n",
        "print(classification_report(y_test, y_pred_linear))"
      ],
      "metadata": {
        "colab": {
          "base_uri": "https://localhost:8080/"
        },
        "id": "1IGnLhwXszFT",
        "outputId": "d933de48-4959-4307-819d-27cb4cb1a260"
      },
      "execution_count": 17,
      "outputs": [
        {
          "output_type": "stream",
          "name": "stdout",
          "text": [
            "Навчання моделі SVM (Лінійне ядро)...\n",
            "\n",
            "Результати SVM (Лінійне ядро):\n",
            "Accuracy: 0.549\n",
            "              precision    recall  f1-score   support\n",
            "\n",
            "          EN       0.43      0.42      0.42        65\n",
            "          EX       0.73      0.50      0.59        22\n",
            "          MI       0.44      0.40      0.42       124\n",
            "          SE       0.64      0.73      0.68       164\n",
            "\n",
            "    accuracy                           0.55       375\n",
            "   macro avg       0.56      0.51      0.53       375\n",
            "weighted avg       0.54      0.55      0.54       375\n",
            "\n"
          ]
        }
      ]
    },
    {
      "cell_type": "markdown",
      "source": [
        "## Модель 2: SVM (RBF Ядро)\n",
        "Використовуємо нелінійне ядро (RBF), яке дозволяє моделі знаходити складніші залежності."
      ],
      "metadata": {
        "id": "zZv21u44s9Fj"
      }
    },
    {
      "cell_type": "code",
      "source": [
        "# Створення та навчання моделі SVM з RBF ядром у Pipeline\n",
        "svm_rbf_model = Pipeline(steps=[('preprocessor', preprocessor),\n",
        "                                ('classifier', SVC(kernel='rbf', random_state=42))])\n",
        "\n",
        "print(\"Навчання моделі SVM (RBF ядро)...\")\n",
        "svm_rbf_model.fit(X_train, y_train)\n",
        "y_pred_rbf = svm_rbf_model.predict(X_test)\n",
        "\n",
        "print(\"\\nРезультати SVM (RBF ядро):\")\n",
        "print(\"Accuracy:\", round(accuracy_score(y_test, y_pred_rbf), 3))\n",
        "print(classification_report(y_test, y_pred_rbf))"
      ],
      "metadata": {
        "colab": {
          "base_uri": "https://localhost:8080/"
        },
        "id": "xqvVMwL5tDqc",
        "outputId": "6681e271-0235-4fe6-b061-a7a027a3f3c2"
      },
      "execution_count": 18,
      "outputs": [
        {
          "output_type": "stream",
          "name": "stdout",
          "text": [
            "Навчання моделі SVM (RBF ядро)...\n",
            "\n",
            "Результати SVM (RBF ядро):\n",
            "Accuracy: 0.595\n",
            "              precision    recall  f1-score   support\n",
            "\n",
            "          EN       0.52      0.46      0.49        65\n",
            "          EX       1.00      0.23      0.37        22\n",
            "          MI       0.54      0.47      0.50       124\n",
            "          SE       0.64      0.79      0.71       164\n",
            "\n",
            "    accuracy                           0.59       375\n",
            "   macro avg       0.67      0.49      0.52       375\n",
            "weighted avg       0.60      0.59      0.58       375\n",
            "\n"
          ]
        }
      ]
    },
    {
      "cell_type": "markdown",
      "source": [
        "## Модель 3: SVM (RBF Ядро + Балансування)\n",
        "Додаємо параметр class_weight='balanced' для боротьби з дисбалансом класів. Це змушує модель приділяти більше уваги рідкісним класам (як EX та EN), штрафуючи за помилки на них сильніше."
      ],
      "metadata": {
        "id": "Nt_fszcZutZR"
      }
    },
    {
      "cell_type": "code",
      "source": [
        "# Створення та навчання моделі SVM з RBF ядром ТА балансуванням класів\n",
        "svm_rbf_balanced_model = Pipeline(steps=[\n",
        "    ('preprocessor', preprocessor),\n",
        "    ('classifier', SVC(\n",
        "        kernel='rbf',\n",
        "        class_weight='balanced',\n",
        "        random_state=42\n",
        "    ))\n",
        "])\n",
        "\n",
        "print(\"Навчання моделі SVM (RBF ядро + Балансування)...\")\n",
        "svm_rbf_balanced_model.fit(X_train, y_train)\n",
        "y_pred_rbf_balanced = svm_rbf_balanced_model.predict(X_test)\n",
        "\n",
        "print(\"\\nРезультати SVM (RBF ядро + Балансування):\")\n",
        "print(\"Accuracy:\", round(accuracy_score(y_test, y_pred_rbf_balanced), 3))\n",
        "print(classification_report(y_test, y_pred_rbf_balanced))"
      ],
      "metadata": {
        "colab": {
          "base_uri": "https://localhost:8080/"
        },
        "id": "4Gubt9bKtdsJ",
        "outputId": "de02651d-ea24-4754-c778-451b80de4006"
      },
      "execution_count": 19,
      "outputs": [
        {
          "output_type": "stream",
          "name": "stdout",
          "text": [
            "Навчання моделі SVM (RBF ядро + Балансування)...\n",
            "\n",
            "Результати SVM (RBF ядро + Балансування):\n",
            "Accuracy: 0.608\n",
            "              precision    recall  f1-score   support\n",
            "\n",
            "          EN       0.51      0.74      0.60        65\n",
            "          EX       0.58      0.64      0.61        22\n",
            "          MI       0.56      0.49      0.52       124\n",
            "          SE       0.71      0.64      0.68       164\n",
            "\n",
            "    accuracy                           0.61       375\n",
            "   macro avg       0.59      0.63      0.60       375\n",
            "weighted avg       0.62      0.61      0.61       375\n",
            "\n"
          ]
        }
      ]
    },
    {
      "cell_type": "code",
      "source": [
        "# Візуалізація матриць плутанини\n",
        "fig, ax = plt.subplots(1, 3, figsize=(20, 6))\n",
        "\n",
        "# Матриця 1: Лінійне ядро\n",
        "cm_linear = confusion_matrix(y_test, y_pred_linear)\n",
        "disp_linear = ConfusionMatrixDisplay(confusion_matrix=cm_linear, display_labels=svm_linear_model.classes_)\n",
        "disp_linear.plot(cmap='Blues', ax=ax[0], values_format='d')\n",
        "ax[0].set_title(\"SVM (Linear) Confusion Matrix\")\n",
        "\n",
        "# Матриця 2: RBF ядро\n",
        "cm_rbf = confusion_matrix(y_test, y_pred_rbf)\n",
        "disp_rbf = ConfusionMatrixDisplay(confusion_matrix=cm_rbf, display_labels=svm_rbf_model.classes_)\n",
        "disp_rbf.plot(cmap='Greens', ax=ax[1], values_format='d')\n",
        "ax[1].set_title(\"SVM (RBF) Confusion Matrix\")\n",
        "\n",
        "# Матриця 3: RBF + Балансування\n",
        "cm_rbf_balanced = confusion_matrix(y_test, y_pred_rbf_balanced)\n",
        "disp_rbf_balanced = ConfusionMatrixDisplay(confusion_matrix=cm_rbf_balanced, display_labels=svm_rbf_balanced_model.classes_)\n",
        "disp_rbf_balanced.plot(cmap='Oranges', ax=ax[2], values_format='d')\n",
        "ax[2].set_title(\"SVM (RBF + Balanced) Matrix\")\n",
        "\n",
        "plt.tight_layout()\n",
        "plt.show()"
      ],
      "metadata": {
        "colab": {
          "base_uri": "https://localhost:8080/",
          "height": 435
        },
        "id": "ruq55ZuXvXN4",
        "outputId": "cc9512ea-a45e-415f-b995-00c2d0926d0b"
      },
      "execution_count": 20,
      "outputs": [
        {
          "output_type": "display_data",
          "data": {
            "text/plain": [
              "<Figure size 2000x600 with 6 Axes>"
            ],
            "image/png": "[encoded data removed]"
          },
          "metadata": {}
        }
      ]
    },
    {
      "cell_type": "markdown",
      "source": [
        "## Аналіз матриць плутанини:\n",
        "\n",
        "Модель 1 (Linear): Сильно плутає класи MI та SE.\n",
        "\n",
        "Модель 2 (RBF): Покращує розпізнавання SE, але майже повністю ігнорує клас EX (лише 5 правильних прогнозів з 22), оскільки він незбалансований.\n",
        "\n",
        "Модель 3 (RBF + Balanced): Найкращий результат. Завдяки балансуванню, модель почала значно краще розпізнавати рідкісні класи. Кількість правильних прогнозів для EX зросла з 5 до 14, а для EN — з 30 до 48. Це призвело до значного зростання recall для цих класів."
      ],
      "metadata": {
        "id": "MMT8Lypxu0Id"
      }
    },
    {
      "cell_type": "markdown",
      "source": [
        "## Порівняння точності моделей\n",
        "Загальна точність (Accuracy) зросла з 0.549 (Лінійна) до 0.595 (RBF) і досягла 0.608 (RBF + Балансування). Важливіше те, що покращилися macro avg f1-score (з 0.52 до 0.60), що вказує на кращий загальний баланс класифікації всіх класів, а не лише домінуючих."
      ],
      "metadata": {
        "id": "v2lFLIjqu28Y"
      }
    },
    {
      "cell_type": "markdown",
      "source": [
        "## Висновки щодо якості класифікації та факторів впливу\n",
        "На точність класифікації рівня досвіду методом SVM вплинули наступні фактори:\n",
        "\n",
        "1. Дисбаланс Класів - найбільша проблема цього датасету. Моделі без балансування (Лінійна та RBF) досягали точності, ігноруючи рідкісні класи (EX мав recall 0.23), оскільки їм \"вигідніше\" було прогнозувати домінуючий клас SE.\n",
        "\n",
        "Додавання class_weight='balanced' (Модель 3) змусило SVM приділити увагу меншим класам, що значно покращило recall для EN (з 0.46 до 0.74) та EX (з 0.23 до 0.64), і підвищило загальну якість моделі.\n",
        "\n",
        "2. Вибір Ядра (Лінійність даних):\n",
        "\n",
        "Перехід від kernel='linear' (Acc: 0.549) до kernel='rbf' (Acc: 0.595) значно покращив результат. Це чітко вказує, що залежність між ознаками (зарплата, посада, розмір компанії) та рівнем досвіду є нелінійною. Лінійна гіперплощина нездатна ефективно розділити ці класи.\n",
        "\n",
        "3. Масштабування Числових Ознак:\n",
        "\n",
        "SVM базується на обчисленні відстаней. Без масштабування (StandardScaler) ознака salary_in_usd (з діапазоном до 300,000+) повністю \"заглушила\" б усі інші ознаки, що призвело б до вкрай низької точності.\n",
        "\n",
        "4. Висока Розмірність Ознак:\n",
        "\n",
        "OneHotEncoder перетворив категоріальні ознаки (особливо job_title та employee_residence) у сотні нових бінарних ознак. SVM відомий своєю ефективністю у високорозмірних просторах, тому він зміг впоратися з цим завданням краще, ніж, наприклад, просте Дерево Рішень.\n",
        "\n",
        "**Загальний висновок**: Найкращу якість класифікації для цього датасету показала модель SVM з RBF ядром та балансуванням класів (Accuracy: 0.608)."
      ],
      "metadata": {
        "id": "LQIa-A-au8Nt"
      }
    }
  ],
  "metadata": {
    "kernelspec": {
      "display_name": "Python 3",
      "language": "python",
      "name": "python3"
    },
    "language_info": {
      "codemirror_mode": {
        "name": "ipython",
        "version": 3
      },
      "file_extension": ".py",
      "mimetype": "text/x-python",
      "name": "python",
      "nbconvert_exporter": "python",
      "pygments_lexer": "ipython3",
      "version": "3.8.8"
    },
    "colab": {
      "provenance": [],
      "include_colab_link": true
    }
  },
  "nbformat": 4,
  "nbformat_minor": 0
}